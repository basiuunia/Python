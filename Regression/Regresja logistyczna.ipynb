{
 "cells": [
  {
   "cell_type": "markdown",
   "metadata": {},
   "source": [
    "## Przykładowy model regresji logistycznej"
   ]
  },
  {
   "cell_type": "code",
   "execution_count": 1,
   "metadata": {},
   "outputs": [],
   "source": [
    "import pandas as pd\n",
    "import matplotlib.pyplot as plt\n",
    "from sklearn import model_selection\n",
    "from sklearn.model_selection import train_test_split,  GridSearchCV\n",
    "from sklearn.preprocessing import StandardScaler\n",
    "from sklearn.linear_model import LogisticRegression\n",
    "from sklearn.metrics import precision_score, classification_report,accuracy_score, confusion_matrix,  auc, roc_curve, roc_auc_score, recall_score, precision_recall_curve\n",
    "import random\n",
    "import seaborn as sns\n",
    "import numpy as np\n",
    "\n",
    "import warnings\n",
    "warnings.filterwarnings('ignore')\n"
   ]
  },
  {
   "cell_type": "code",
   "execution_count": 2,
   "metadata": {},
   "outputs": [],
   "source": [
    "random.seed(2809)"
   ]
  },
  {
   "cell_type": "code",
   "execution_count": 3,
   "metadata": {},
   "outputs": [],
   "source": [
    "df = pd.read_csv('./data/prenumerata.csv' , sep=';')"
   ]
  },
  {
   "cell_type": "code",
   "execution_count": 4,
   "metadata": {},
   "outputs": [
    {
     "data": {
      "text/html": [
       "<div>\n",
       "<style scoped>\n",
       "    .dataframe tbody tr th:only-of-type {\n",
       "        vertical-align: middle;\n",
       "    }\n",
       "\n",
       "    .dataframe tbody tr th {\n",
       "        vertical-align: top;\n",
       "    }\n",
       "\n",
       "    .dataframe thead th {\n",
       "        text-align: right;\n",
       "    }\n",
       "</style>\n",
       "<table border=\"1\" class=\"dataframe\">\n",
       "  <thead>\n",
       "    <tr style=\"text-align: right;\">\n",
       "      <th></th>\n",
       "      <th>Prenumerata</th>\n",
       "      <th>Wiek</th>\n",
       "      <th>Dochody</th>\n",
       "      <th>Płeć</th>\n",
       "      <th>Ilość dzieci</th>\n",
       "      <th>Kredyt</th>\n",
       "    </tr>\n",
       "  </thead>\n",
       "  <tbody>\n",
       "    <tr>\n",
       "      <th>0</th>\n",
       "      <td>0</td>\n",
       "      <td>25</td>\n",
       "      <td>132</td>\n",
       "      <td>0</td>\n",
       "      <td>1</td>\n",
       "      <td>2705.25</td>\n",
       "    </tr>\n",
       "    <tr>\n",
       "      <th>1</th>\n",
       "      <td>0</td>\n",
       "      <td>64</td>\n",
       "      <td>84</td>\n",
       "      <td>0</td>\n",
       "      <td>1</td>\n",
       "      <td>3807.50</td>\n",
       "    </tr>\n",
       "    <tr>\n",
       "      <th>2</th>\n",
       "      <td>0</td>\n",
       "      <td>31</td>\n",
       "      <td>100</td>\n",
       "      <td>1</td>\n",
       "      <td>0</td>\n",
       "      <td>4702.75</td>\n",
       "    </tr>\n",
       "    <tr>\n",
       "      <th>3</th>\n",
       "      <td>0</td>\n",
       "      <td>66</td>\n",
       "      <td>72</td>\n",
       "      <td>0</td>\n",
       "      <td>2</td>\n",
       "      <td>185.50</td>\n",
       "    </tr>\n",
       "    <tr>\n",
       "      <th>4</th>\n",
       "      <td>0</td>\n",
       "      <td>39</td>\n",
       "      <td>78</td>\n",
       "      <td>1</td>\n",
       "      <td>0</td>\n",
       "      <td>885.75</td>\n",
       "    </tr>\n",
       "  </tbody>\n",
       "</table>\n",
       "</div>"
      ],
      "text/plain": [
       "   Prenumerata  Wiek  Dochody  Płeć  Ilość dzieci   Kredyt\n",
       "0            0    25      132     0             1  2705.25\n",
       "1            0    64       84     0             1  3807.50\n",
       "2            0    31      100     1             0  4702.75\n",
       "3            0    66       72     0             2   185.50\n",
       "4            0    39       78     1             0   885.75"
      ]
     },
     "execution_count": 4,
     "metadata": {},
     "output_type": "execute_result"
    }
   ],
   "source": [
    "df.head()"
   ]
  },
  {
   "cell_type": "code",
   "execution_count": 5,
   "metadata": {},
   "outputs": [
    {
     "name": "stdout",
     "output_type": "stream",
     "text": [
      "<class 'pandas.core.frame.DataFrame'>\n",
      "RangeIndex: 407 entries, 0 to 406\n",
      "Data columns (total 6 columns):\n",
      "Prenumerata     407 non-null int64\n",
      "Wiek            407 non-null int64\n",
      "Dochody         407 non-null int64\n",
      "Płeć            407 non-null int64\n",
      "Ilość dzieci    407 non-null int64\n",
      "Kredyt          407 non-null float64\n",
      "dtypes: float64(1), int64(5)\n",
      "memory usage: 19.2 KB\n"
     ]
    }
   ],
   "source": [
    "df.info()"
   ]
  },
  {
   "cell_type": "markdown",
   "metadata": {},
   "source": [
    "#### Analiza danych"
   ]
  },
  {
   "cell_type": "markdown",
   "metadata": {},
   "source": [
    "Zmienną zależną jest kolumna Prenumerata informująca o zamówieniu (1) lub nie (0) prenumerty "
   ]
  },
  {
   "cell_type": "code",
   "execution_count": 6,
   "metadata": {},
   "outputs": [
    {
     "data": {
      "text/plain": [
       "0    236\n",
       "1    171\n",
       "Name: Prenumerata, dtype: int64"
      ]
     },
     "execution_count": 6,
     "metadata": {},
     "output_type": "execute_result"
    }
   ],
   "source": [
    "df.Prenumerata.value_counts(dropna = False)"
   ]
  },
  {
   "cell_type": "markdown",
   "metadata": {},
   "source": [
    "A procetowo?"
   ]
  },
  {
   "cell_type": "code",
   "execution_count": 7,
   "metadata": {},
   "outputs": [
    {
     "data": {
      "text/plain": [
       "0    0.579853\n",
       "1    0.420147\n",
       "Name: Prenumerata, dtype: float64"
      ]
     },
     "execution_count": 7,
     "metadata": {},
     "output_type": "execute_result"
    }
   ],
   "source": [
    "df.Prenumerata.value_counts(dropna = False, normalize=True)"
   ]
  },
  {
   "cell_type": "markdown",
   "metadata": {},
   "source": [
    "Zbiór jest dośc zbilansowany, co w rzeczywostości rzadko się zdarza."
   ]
  },
  {
   "cell_type": "markdown",
   "metadata": {},
   "source": [
    "Zmienne zależne to pozostałe kolumny. Sprawdźmy czy wystepuję jakaś korelacja z zmienną zależną"
   ]
  },
  {
   "cell_type": "code",
   "execution_count": 8,
   "metadata": {},
   "outputs": [
    {
     "data": {
      "text/html": [
       "<div>\n",
       "<style scoped>\n",
       "    .dataframe tbody tr th:only-of-type {\n",
       "        vertical-align: middle;\n",
       "    }\n",
       "\n",
       "    .dataframe tbody tr th {\n",
       "        vertical-align: top;\n",
       "    }\n",
       "\n",
       "    .dataframe thead th {\n",
       "        text-align: right;\n",
       "    }\n",
       "</style>\n",
       "<table border=\"1\" class=\"dataframe\">\n",
       "  <thead>\n",
       "    <tr style=\"text-align: right;\">\n",
       "      <th></th>\n",
       "      <th>Prenumerata</th>\n",
       "      <th>Wiek</th>\n",
       "      <th>Dochody</th>\n",
       "      <th>Płeć</th>\n",
       "      <th>Ilość dzieci</th>\n",
       "      <th>Kredyt</th>\n",
       "    </tr>\n",
       "  </thead>\n",
       "  <tbody>\n",
       "    <tr>\n",
       "      <th>Płeć</th>\n",
       "      <td>-0.001716</td>\n",
       "      <td>0.062418</td>\n",
       "      <td>-0.014905</td>\n",
       "      <td>1.000000</td>\n",
       "      <td>-0.021830</td>\n",
       "      <td>0.069830</td>\n",
       "    </tr>\n",
       "    <tr>\n",
       "      <th>Wiek</th>\n",
       "      <td>0.143982</td>\n",
       "      <td>1.000000</td>\n",
       "      <td>-0.040767</td>\n",
       "      <td>0.062418</td>\n",
       "      <td>-0.035319</td>\n",
       "      <td>0.117678</td>\n",
       "    </tr>\n",
       "    <tr>\n",
       "      <th>Ilość dzieci</th>\n",
       "      <td>0.218851</td>\n",
       "      <td>-0.035319</td>\n",
       "      <td>0.052005</td>\n",
       "      <td>-0.021830</td>\n",
       "      <td>1.000000</td>\n",
       "      <td>0.159462</td>\n",
       "    </tr>\n",
       "    <tr>\n",
       "      <th>Dochody</th>\n",
       "      <td>0.262871</td>\n",
       "      <td>-0.040767</td>\n",
       "      <td>1.000000</td>\n",
       "      <td>-0.014905</td>\n",
       "      <td>0.052005</td>\n",
       "      <td>0.164383</td>\n",
       "    </tr>\n",
       "    <tr>\n",
       "      <th>Kredyt</th>\n",
       "      <td>0.761596</td>\n",
       "      <td>0.117678</td>\n",
       "      <td>0.164383</td>\n",
       "      <td>0.069830</td>\n",
       "      <td>0.159462</td>\n",
       "      <td>1.000000</td>\n",
       "    </tr>\n",
       "    <tr>\n",
       "      <th>Prenumerata</th>\n",
       "      <td>1.000000</td>\n",
       "      <td>0.143982</td>\n",
       "      <td>0.262871</td>\n",
       "      <td>-0.001716</td>\n",
       "      <td>0.218851</td>\n",
       "      <td>0.761596</td>\n",
       "    </tr>\n",
       "  </tbody>\n",
       "</table>\n",
       "</div>"
      ],
      "text/plain": [
       "              Prenumerata      Wiek   Dochody      Płeć  Ilość dzieci  \\\n",
       "Płeć            -0.001716  0.062418 -0.014905  1.000000     -0.021830   \n",
       "Wiek             0.143982  1.000000 -0.040767  0.062418     -0.035319   \n",
       "Ilość dzieci     0.218851 -0.035319  0.052005 -0.021830      1.000000   \n",
       "Dochody          0.262871 -0.040767  1.000000 -0.014905      0.052005   \n",
       "Kredyt           0.761596  0.117678  0.164383  0.069830      0.159462   \n",
       "Prenumerata      1.000000  0.143982  0.262871 -0.001716      0.218851   \n",
       "\n",
       "                Kredyt  \n",
       "Płeć          0.069830  \n",
       "Wiek          0.117678  \n",
       "Ilość dzieci  0.159462  \n",
       "Dochody       0.164383  \n",
       "Kredyt        1.000000  \n",
       "Prenumerata   0.761596  "
      ]
     },
     "execution_count": 8,
     "metadata": {},
     "output_type": "execute_result"
    }
   ],
   "source": [
    "df.corr().sort_values('Prenumerata')"
   ]
  },
  {
   "cell_type": "markdown",
   "metadata": {},
   "source": [
    "Statystyki zmiennych"
   ]
  },
  {
   "cell_type": "code",
   "execution_count": 9,
   "metadata": {},
   "outputs": [
    {
     "data": {
      "text/html": [
       "<div>\n",
       "<style scoped>\n",
       "    .dataframe tbody tr th:only-of-type {\n",
       "        vertical-align: middle;\n",
       "    }\n",
       "\n",
       "    .dataframe tbody tr th {\n",
       "        vertical-align: top;\n",
       "    }\n",
       "\n",
       "    .dataframe thead th {\n",
       "        text-align: right;\n",
       "    }\n",
       "</style>\n",
       "<table border=\"1\" class=\"dataframe\">\n",
       "  <thead>\n",
       "    <tr style=\"text-align: right;\">\n",
       "      <th></th>\n",
       "      <th>Prenumerata</th>\n",
       "      <th>Wiek</th>\n",
       "      <th>Dochody</th>\n",
       "      <th>Płeć</th>\n",
       "      <th>Ilość dzieci</th>\n",
       "      <th>Kredyt</th>\n",
       "    </tr>\n",
       "  </thead>\n",
       "  <tbody>\n",
       "    <tr>\n",
       "      <th>count</th>\n",
       "      <td>407.000000</td>\n",
       "      <td>407.000000</td>\n",
       "      <td>407.000000</td>\n",
       "      <td>407.000000</td>\n",
       "      <td>407.000000</td>\n",
       "      <td>407.000000</td>\n",
       "    </tr>\n",
       "    <tr>\n",
       "      <th>mean</th>\n",
       "      <td>0.420147</td>\n",
       "      <td>50.363636</td>\n",
       "      <td>107.756757</td>\n",
       "      <td>0.533170</td>\n",
       "      <td>0.798526</td>\n",
       "      <td>12414.974816</td>\n",
       "    </tr>\n",
       "    <tr>\n",
       "      <th>std</th>\n",
       "      <td>0.494190</td>\n",
       "      <td>15.016918</td>\n",
       "      <td>36.793557</td>\n",
       "      <td>0.499513</td>\n",
       "      <td>0.966787</td>\n",
       "      <td>14403.739149</td>\n",
       "    </tr>\n",
       "    <tr>\n",
       "      <th>min</th>\n",
       "      <td>0.000000</td>\n",
       "      <td>25.000000</td>\n",
       "      <td>50.000000</td>\n",
       "      <td>0.000000</td>\n",
       "      <td>0.000000</td>\n",
       "      <td>6.750000</td>\n",
       "    </tr>\n",
       "    <tr>\n",
       "      <th>25%</th>\n",
       "      <td>0.000000</td>\n",
       "      <td>37.500000</td>\n",
       "      <td>76.000000</td>\n",
       "      <td>0.000000</td>\n",
       "      <td>0.000000</td>\n",
       "      <td>2521.000000</td>\n",
       "    </tr>\n",
       "    <tr>\n",
       "      <th>50%</th>\n",
       "      <td>0.000000</td>\n",
       "      <td>51.000000</td>\n",
       "      <td>107.000000</td>\n",
       "      <td>1.000000</td>\n",
       "      <td>0.000000</td>\n",
       "      <td>5166.000000</td>\n",
       "    </tr>\n",
       "    <tr>\n",
       "      <th>75%</th>\n",
       "      <td>1.000000</td>\n",
       "      <td>64.000000</td>\n",
       "      <td>135.000000</td>\n",
       "      <td>1.000000</td>\n",
       "      <td>1.000000</td>\n",
       "      <td>21210.000000</td>\n",
       "    </tr>\n",
       "    <tr>\n",
       "      <th>max</th>\n",
       "      <td>1.000000</td>\n",
       "      <td>75.000000</td>\n",
       "      <td>200.000000</td>\n",
       "      <td>1.000000</td>\n",
       "      <td>4.000000</td>\n",
       "      <td>49948.000000</td>\n",
       "    </tr>\n",
       "  </tbody>\n",
       "</table>\n",
       "</div>"
      ],
      "text/plain": [
       "       Prenumerata        Wiek     Dochody        Płeć  Ilość dzieci  \\\n",
       "count   407.000000  407.000000  407.000000  407.000000    407.000000   \n",
       "mean      0.420147   50.363636  107.756757    0.533170      0.798526   \n",
       "std       0.494190   15.016918   36.793557    0.499513      0.966787   \n",
       "min       0.000000   25.000000   50.000000    0.000000      0.000000   \n",
       "25%       0.000000   37.500000   76.000000    0.000000      0.000000   \n",
       "50%       0.000000   51.000000  107.000000    1.000000      0.000000   \n",
       "75%       1.000000   64.000000  135.000000    1.000000      1.000000   \n",
       "max       1.000000   75.000000  200.000000    1.000000      4.000000   \n",
       "\n",
       "             Kredyt  \n",
       "count    407.000000  \n",
       "mean   12414.974816  \n",
       "std    14403.739149  \n",
       "min        6.750000  \n",
       "25%     2521.000000  \n",
       "50%     5166.000000  \n",
       "75%    21210.000000  \n",
       "max    49948.000000  "
      ]
     },
     "execution_count": 9,
     "metadata": {},
     "output_type": "execute_result"
    }
   ],
   "source": [
    "df.describe()"
   ]
  },
  {
   "cell_type": "code",
   "execution_count": 10,
   "metadata": {},
   "outputs": [
    {
     "data": {
      "image/png": "[encoded data removed]",
      "text/plain": [
       "<Figure size 432x288 with 2 Axes>"
      ]
     },
     "metadata": {
      "needs_background": "light"
     },
     "output_type": "display_data"
    }
   ],
   "source": [
    "sns.heatmap(df.corr(),cmap=\"coolwarm\");"
   ]
  },
  {
   "cell_type": "markdown",
   "metadata": {},
   "source": [
    "#### Zbudujmy model oparty o regresje logistyczną"
   ]
  },
  {
   "cell_type": "code",
   "execution_count": 11,
   "metadata": {},
   "outputs": [],
   "source": [
    "X=df.iloc[:,1:]\n",
    "y=df['Prenumerata']"
   ]
  },
  {
   "cell_type": "code",
   "execution_count": 12,
   "metadata": {},
   "outputs": [],
   "source": [
    "X_train, X_test,y_train, y_test = train_test_split(X,y, test_size = 0.3)"
   ]
  },
  {
   "cell_type": "code",
   "execution_count": 13,
   "metadata": {},
   "outputs": [],
   "source": [
    "model = LogisticRegression()\n",
    "model.fit(X_train, y_train)\n",
    "\n",
    "y_pred = model.predict(X_test)"
   ]
  },
  {
   "cell_type": "code",
   "execution_count": 14,
   "metadata": {},
   "outputs": [
    {
     "data": {
      "text/plain": [
       "0.9512195121951219"
      ]
     },
     "execution_count": 14,
     "metadata": {},
     "output_type": "execute_result"
    }
   ],
   "source": [
    "accuracy_score(y_test, y_pred)"
   ]
  },
  {
   "cell_type": "code",
   "execution_count": 15,
   "metadata": {},
   "outputs": [
    {
     "data": {
      "text/plain": [
       "array([[71,  1],\n",
       "       [ 5, 46]], dtype=int64)"
      ]
     },
     "execution_count": 15,
     "metadata": {},
     "output_type": "execute_result"
    }
   ],
   "source": [
    "confusion_matrix(y_test, y_pred)"
   ]
  },
  {
   "cell_type": "markdown",
   "metadata": {},
   "source": [
    "Poszukiwania najlepszych parametrów modelu"
   ]
  },
  {
   "cell_type": "code",
   "execution_count": 16,
   "metadata": {},
   "outputs": [],
   "source": [
    "Parameteres = {'C': np.power(10.0, np.arange(-3, 3))}\n",
    "LR = LogisticRegression(warm_start = True)\n",
    "LR_Grid = GridSearchCV(LR, param_grid = Parameteres, scoring = 'roc_auc', n_jobs = 5, cv=2)"
   ]
  },
  {
   "cell_type": "code",
   "execution_count": 17,
   "metadata": {},
   "outputs": [
    {
     "data": {
      "text/plain": [
       "GridSearchCV(cv=2, error_score='raise-deprecating',\n",
       "             estimator=LogisticRegression(C=1.0, class_weight=None, dual=False,\n",
       "                                          fit_intercept=True,\n",
       "                                          intercept_scaling=1, l1_ratio=None,\n",
       "                                          max_iter=100, multi_class='warn',\n",
       "                                          n_jobs=None, penalty='l2',\n",
       "                                          random_state=None, solver='warn',\n",
       "                                          tol=0.0001, verbose=0,\n",
       "                                          warm_start=True),\n",
       "             iid='warn', n_jobs=5,\n",
       "             param_grid={'C': array([1.e-03, 1.e-02, 1.e-01, 1.e+00, 1.e+01, 1.e+02])},\n",
       "             pre_dispatch='2*n_jobs', refit=True, return_train_score=False,\n",
       "             scoring='roc_auc', verbose=0)"
      ]
     },
     "execution_count": 17,
     "metadata": {},
     "output_type": "execute_result"
    }
   ],
   "source": [
    "LR_Grid.fit(X_train, y_train)"
   ]
  },
  {
   "cell_type": "code",
   "execution_count": 18,
   "metadata": {},
   "outputs": [
    {
     "name": "stdout",
     "output_type": "stream",
     "text": [
      "\n",
      "------Training data---------------------------------------------------\n",
      "RECALL Training data:       0.808\n",
      "PRECISION Training data:    0.924\n",
      "\n",
      "------Test data-------------------------------------------------------\n",
      "RECALL Test data is:         0.902\n",
      "PRECISION Test data is:      0.979\n",
      "\n",
      "Confusion Matrix Test data :\n",
      "[[71  1]\n",
      " [ 5 46]]\n",
      "----------------------------------------------------------------------\n",
      "              precision    recall  f1-score   support\n",
      "\n",
      "           0       0.93      0.99      0.96        72\n",
      "           1       0.98      0.90      0.94        51\n",
      "\n",
      "    accuracy                           0.95       123\n",
      "   macro avg       0.96      0.94      0.95       123\n",
      "weighted avg       0.95      0.95      0.95       123\n",
      "\n"
     ]
    }
   ],
   "source": [
    "print(\"\\n------Training data---------------------------------------------------\")\n",
    "print(\"RECALL Training data:      \", np.round(recall_score(y_train, LR_Grid.predict(X_train)), decimals=3))\n",
    "print(\"PRECISION Training data:   \", np.round(precision_score(y_train, LR_Grid.predict(X_train)), decimals=3))\n",
    "print()\n",
    "print(\"------Test data-------------------------------------------------------\")\n",
    "\n",
    "print(\"RECALL Test data is:        \", np.round(recall_score(y_test, LR_Grid.predict(X_test)), decimals=3))\n",
    "print(\"PRECISION Test data is:     \", np.round(precision_score(y_test, LR_Grid.predict(X_test)), decimals=3))\n",
    "print()\n",
    "print(\"Confusion Matrix Test data :\")\n",
    "print(confusion_matrix(y_test, LR_Grid.predict(X_test)))\n",
    "print(\"----------------------------------------------------------------------\")\n",
    "print(classification_report(y_test, LR_Grid.predict(X_test)))\n"
   ]
  },
  {
   "cell_type": "code",
   "execution_count": 19,
   "metadata": {},
   "outputs": [
    {
     "data": {
      "image/png": "[encoded data removed]",
      "text/plain": [
       "<Figure size 432x288 with 1 Axes>"
      ]
     },
     "metadata": {
      "needs_background": "light"
     },
     "output_type": "display_data"
    }
   ],
   "source": [
    "y_pred_proba = LR_Grid.predict_proba(X_test)[::,1]\n",
    "fpr, tpr, _ = roc_curve(y_test,  y_pred_proba)\n",
    "auc = roc_auc_score(y_test, y_pred_proba)\n",
    "plt.plot(fpr, tpr, label='Regresja logistyczna (AUC = %0.2f)' % auc)\n",
    "\n",
    "plt.xlabel('False Positive Rate',color='grey', fontsize = 13)\n",
    "plt.ylabel('True Positive Rate',color='grey', fontsize = 13)\n",
    "plt.title('Krzywa ROC')\n",
    "plt.legend(loc=\"lower right\")\n",
    "plt.legend(loc=4)\n",
    "plt.plot([0, 1], [0, 1],'r--')\n",
    "plt.show()"
   ]
  }
 ],
 "metadata": {
  "kernelspec": {
   "display_name": "Python 3",
   "language": "python",
   "name": "python3"
  },
  "language_info": {
   "codemirror_mode": {
    "name": "ipython",
    "version": 3
   },
   "file_extension": ".py",
   "mimetype": "text/x-python",
   "name": "python",
   "nbconvert_exporter": "python",
   "pygments_lexer": "ipython3",
   "version": "3.7.3"
  }
 },
 "nbformat": 4,
 "nbformat_minor": 2
}
